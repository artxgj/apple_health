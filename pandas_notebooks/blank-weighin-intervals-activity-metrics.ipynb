{
 "cells": [
  {
   "cell_type": "markdown",
   "metadata": {},
   "source": [
    "## Activities and Weight Change"
   ]
  },
  {
   "cell_type": "markdown",
   "metadata": {},
   "source": [
    "### Setup"
   ]
  },
  {
   "cell_type": "code",
   "execution_count": null,
   "metadata": {
    "scrolled": false
   },
   "outputs": [],
   "source": [
    "import pathlib"
   ]
  },
  {
   "cell_type": "code",
   "execution_count": null,
   "metadata": {
    "scrolled": false
   },
   "outputs": [],
   "source": [
    "import pandas as pd"
   ]
  },
  {
   "cell_type": "code",
   "execution_count": null,
   "metadata": {
    "scrolled": false
   },
   "outputs": [],
   "source": [
    "date_partition = '20200927'"
   ]
  },
  {
   "cell_type": "code",
   "execution_count": null,
   "metadata": {
    "scrolled": false
   },
   "outputs": [],
   "source": [
    "home = pathlib.Path.home()"
   ]
  },
  {
   "cell_type": "code",
   "execution_count": null,
   "metadata": {
    "scrolled": false
   },
   "outputs": [],
   "source": [
    "data_input_path = f\"{home}/small-data/apple-health-csv/full-extract/{date_partition}\""
   ]
  },
  {
   "cell_type": "code",
   "execution_count": null,
   "metadata": {
    "scrolled": false
   },
   "outputs": [],
   "source": [
    "study_path = f\"{home}/small-data/study/health-stories/{date_partition}\""
   ]
  },
  {
   "cell_type": "code",
   "execution_count": null,
   "metadata": {
    "scrolled": false
   },
   "outputs": [],
   "source": [
    "pathlib.Path(study_path).mkdir(parents=True,exist_ok=True)"
   ]
  },
  {
   "cell_type": "code",
   "execution_count": null,
   "metadata": {},
   "outputs": [],
   "source": [
    "activity_summary_date_interval_map = pd.read_csv(f\"{data_input_path}/activity-summary-dates-intervals.csv\",\n",
    "                                                 parse_dates=['date', 'interval_start', 'interval_end'])"
   ]
  },
  {
   "cell_type": "code",
   "execution_count": null,
   "metadata": {},
   "outputs": [],
   "source": [
    "activity_summary_date_interval_map['interval_key'] = activity_summary_date_interval_map['interval_start'].apply(lambda x: x.strftime(\"%Y%m%d\")) + \"T\" + activity_summary_date_interval_map['interval_end'].apply(lambda x: x.strftime(\"%Y%m%d\"))"
   ]
  },
  {
   "cell_type": "markdown",
   "metadata": {},
   "source": [
    "### Load activity summary data and combine with the interval map"
   ]
  },
  {
   "cell_type": "code",
   "execution_count": null,
   "metadata": {},
   "outputs": [],
   "source": [
    "activity_summary = pd.read_csv(f\"{data_input_path}/activity-summary.csv\", parse_dates=['dateComponents'])"
   ]
  },
  {
   "cell_type": "code",
   "execution_count": null,
   "metadata": {},
   "outputs": [],
   "source": [
    "activity_summary = activity_summary.loc[:, [\"dateComponents\", \"activeEnergyBurned\", \"appleExerciseTime\"]]"
   ]
  },
  {
   "cell_type": "code",
   "execution_count": null,
   "metadata": {},
   "outputs": [],
   "source": [
    "activity_summary = activity_summary.rename(columns = {\n",
    "    'dateComponents': 'date',\n",
    "    'activeEnergyBurned': 'active_energy_burned',\n",
    "    'appleExerciseTime': 'apple_exercise_time'\n",
    "})"
   ]
  },
  {
   "cell_type": "code",
   "execution_count": null,
   "metadata": {},
   "outputs": [],
   "source": [
    "activity_summary_with_intervals = pd.merge(activity_summary, \n",
    "                                      activity_summary_date_interval_map, \n",
    "                                      left_on='date', right_on='date') "
   ]
  },
  {
   "cell_type": "code",
   "execution_count": null,
   "metadata": {},
   "outputs": [],
   "source": [
    "activity_summary_with_intervals"
   ]
  },
  {
   "cell_type": "markdown",
   "metadata": {},
   "source": [
    "### Remove 0 calories activity summary"
   ]
  },
  {
   "cell_type": "markdown",
   "metadata": {},
   "source": [
    "Apple Watch had created a 0-calorie burned line item in the activity summary for the day prior to Watch activation date."
   ]
  },
  {
   "cell_type": "code",
   "execution_count": null,
   "metadata": {},
   "outputs": [],
   "source": [
    "activity_summary_with_intervals = \\\n",
    "activity_summary_with_intervals[activity_summary_with_intervals['active_energy_burned'] > 0]"
   ]
  },
  {
   "cell_type": "markdown",
   "metadata": {},
   "source": [
    "### Combine movement summary data (walking, running, doing chores at home, etc)"
   ]
  },
  {
   "cell_type": "code",
   "execution_count": null,
   "metadata": {},
   "outputs": [],
   "source": [
    "movement = pd.read_csv(f\"{data_input_path}/distance-walking-running-summary.csv\", parse_dates=['date'])"
   ]
  },
  {
   "cell_type": "code",
   "execution_count": null,
   "metadata": {},
   "outputs": [],
   "source": [
    "ext_activity_summary = pd.merge(activity_summary_with_intervals, movement[['date', 'movement_distance']],\n",
    "                         left_on='date', right_on='date')"
   ]
  },
  {
   "cell_type": "markdown",
   "metadata": {},
   "source": [
    "### Combine run workout summary"
   ]
  },
  {
   "cell_type": "code",
   "execution_count": null,
   "metadata": {},
   "outputs": [],
   "source": [
    "runs = pd.read_csv(f\"{data_input_path}/workout-summary-run.csv\", parse_dates=['date'])"
   ]
  },
  {
   "cell_type": "code",
   "execution_count": null,
   "metadata": {},
   "outputs": [],
   "source": [
    "runs = runs.rename(columns={\n",
    "    'duration': 'run_duration',\n",
    "    'distance': 'run_distance',\n",
    "    'energy_burned': 'run_energy_burned'\n",
    "})"
   ]
  },
  {
   "cell_type": "code",
   "execution_count": null,
   "metadata": {},
   "outputs": [],
   "source": [
    "ext_activity_summary = pd.merge(ext_activity_summary, \n",
    "                          runs[['date', 'run_duration', 'run_distance', 'run_energy_burned']], \n",
    "                          left_on='date', right_on='date', how='left')"
   ]
  },
  {
   "cell_type": "markdown",
   "metadata": {},
   "source": [
    "### Combine vo2max summary"
   ]
  },
  {
   "cell_type": "code",
   "execution_count": null,
   "metadata": {},
   "outputs": [],
   "source": [
    "vo2max = pd.read_csv(f\"{data_input_path}/vo2max-summary.csv\", parse_dates=['date'])"
   ]
  },
  {
   "cell_type": "code",
   "execution_count": null,
   "metadata": {},
   "outputs": [],
   "source": [
    "ext_activity_summary = pd.merge(ext_activity_summary, \n",
    "                          vo2max[['date', 'vo2max']], \n",
    "                          left_on='date', right_on='date', how='left')"
   ]
  },
  {
   "cell_type": "markdown",
   "metadata": {},
   "source": [
    "### Combine resting heart rate summary"
   ]
  },
  {
   "cell_type": "code",
   "execution_count": null,
   "metadata": {},
   "outputs": [],
   "source": [
    "resting_heart_rate = pd.read_csv(f\"{data_input_path}/resting-heart-rate-summary.csv\", parse_dates=['date'])"
   ]
  },
  {
   "cell_type": "code",
   "execution_count": null,
   "metadata": {},
   "outputs": [],
   "source": [
    "ext_activity_summary = pd.merge(ext_activity_summary, \n",
    "                          resting_heart_rate[['date', 'resting_heart_rate']], \n",
    "                          left_on='date', right_on='date', how='left')"
   ]
  },
  {
   "cell_type": "markdown",
   "metadata": {},
   "source": [
    "### Calculate interval averages"
   ]
  },
  {
   "cell_type": "code",
   "execution_count": null,
   "metadata": {},
   "outputs": [],
   "source": [
    "ext_activity_summary_groups = ext_activity_summary.groupby('interval_key', as_index=False)"
   ]
  },
  {
   "cell_type": "code",
   "execution_count": null,
   "metadata": {},
   "outputs": [],
   "source": [
    "ext_activity_summary_groups.describe().to_csv(f\"{data_input_path}/health-metrics-statistics.csv\", index=False)"
   ]
  },
  {
   "cell_type": "code",
   "execution_count": null,
   "metadata": {},
   "outputs": [],
   "source": [
    "ext_activity_summary_groups.count().to_csv(f\"{data_input_path}/health-metrics-counts.csv\", index=False)"
   ]
  },
  {
   "cell_type": "code",
   "execution_count": null,
   "metadata": {},
   "outputs": [],
   "source": [
    "ext_activity_summary_interval_averages = ext_activity_summary_groups.mean()"
   ]
  },
  {
   "cell_type": "code",
   "execution_count": null,
   "metadata": {},
   "outputs": [],
   "source": [
    "# ext_activity_summary_groups.describe()"
   ]
  },
  {
   "cell_type": "markdown",
   "metadata": {},
   "source": [
    "### Add interval information to ext_activity_summary_interval_averages"
   ]
  },
  {
   "cell_type": "markdown",
   "metadata": {},
   "source": [
    "#### drop_duplicates() ~ SELECT DISTINCT"
   ]
  },
  {
   "cell_type": "code",
   "execution_count": null,
   "metadata": {},
   "outputs": [],
   "source": [
    "ext_activity_summary_interval_averages = pd.merge(ext_activity_summary_interval_averages,\n",
    "        activity_summary_date_interval_map[['interval_key', 'interval_start', 'interval_end']],\n",
    "        left_on='interval_key',\n",
    "        right_on='interval_key').drop_duplicates()"
   ]
  },
  {
   "cell_type": "markdown",
   "metadata": {},
   "source": [
    "### Load weight history and create interval weight changes"
   ]
  },
  {
   "cell_type": "code",
   "execution_count": null,
   "metadata": {},
   "outputs": [],
   "source": [
    "weights = pd.read_csv(f\"{data_input_path}/bodymass-summary.csv\", parse_dates=['date'])"
   ]
  },
  {
   "cell_type": "code",
   "execution_count": null,
   "metadata": {},
   "outputs": [],
   "source": [
    "### Create starting weight of each interval"
   ]
  },
  {
   "cell_type": "code",
   "execution_count": null,
   "metadata": {},
   "outputs": [],
   "source": [
    "starting_weight = ext_activity_summary_interval_averages.loc[:, ['interval_key', 'interval_start']]"
   ]
  },
  {
   "cell_type": "code",
   "execution_count": null,
   "metadata": {},
   "outputs": [],
   "source": [
    "starting_weight = pd.merge(starting_weight, weights[['date', 'bodymass']], left_on='interval_start', right_on='date')"
   ]
  },
  {
   "cell_type": "code",
   "execution_count": null,
   "metadata": {},
   "outputs": [],
   "source": [
    "ending_weight = ext_activity_summary_interval_averages.loc[:, ['interval_key','interval_end']]"
   ]
  },
  {
   "cell_type": "code",
   "execution_count": null,
   "metadata": {},
   "outputs": [],
   "source": [
    "ending_weight = pd.merge(ending_weight, weights[['date', 'bodymass']], left_on='interval_end', right_on='date')"
   ]
  },
  {
   "cell_type": "code",
   "execution_count": null,
   "metadata": {},
   "outputs": [],
   "source": [
    "interval_weight = pd.merge(starting_weight, ending_weight, left_on='interval_key', right_on='interval_key')"
   ]
  },
  {
   "cell_type": "code",
   "execution_count": null,
   "metadata": {},
   "outputs": [],
   "source": [
    "interval_weight = interval_weight.rename(columns={\n",
    "    'bodymass_x': 'start_weight',\n",
    "    'bodymass_y': 'end_weight'\n",
    "})"
   ]
  },
  {
   "cell_type": "code",
   "execution_count": null,
   "metadata": {},
   "outputs": [],
   "source": [
    "del interval_weight['date_x'], interval_weight['date_y']"
   ]
  },
  {
   "cell_type": "code",
   "execution_count": null,
   "metadata": {},
   "outputs": [],
   "source": [
    "interval_weight['weight_change'] = interval_weight['end_weight'] - interval_weight['start_weight']"
   ]
  },
  {
   "cell_type": "code",
   "execution_count": null,
   "metadata": {},
   "outputs": [],
   "source": [
    "interval_weight['cumul_weight_change'] = interval_weight['weight_change'].cumsum()"
   ]
  },
  {
   "cell_type": "markdown",
   "metadata": {},
   "source": [
    "### Combine weight interval data with health metrics "
   ]
  },
  {
   "cell_type": "code",
   "execution_count": null,
   "metadata": {},
   "outputs": [],
   "source": [
    "weight_and_activity = pd.merge(interval_weight, \n",
    "                               ext_activity_summary_interval_averages, \n",
    "                               left_on='interval_key', right_on='interval_key')"
   ]
  },
  {
   "cell_type": "code",
   "execution_count": null,
   "metadata": {},
   "outputs": [],
   "source": [
    "del weight_and_activity['interval_start_x'], weight_and_activity['interval_end_x']"
   ]
  },
  {
   "cell_type": "code",
   "execution_count": null,
   "metadata": {},
   "outputs": [],
   "source": [
    "weight_and_activity = weight_and_activity.rename(columns={\n",
    "    \"interval_start_y\" : \"interval_start_date\",\n",
    "    \"interval_end_y\": \"next_interval_start_date\"\n",
    "})"
   ]
  },
  {
   "cell_type": "code",
   "execution_count": null,
   "metadata": {},
   "outputs": [],
   "source": [
    "weight_and_activity"
   ]
  },
  {
   "cell_type": "code",
   "execution_count": null,
   "metadata": {},
   "outputs": [],
   "source": [
    "weight_and_activity.to_csv(f\"{data_input_path}/weight_after_activities_interval.csv\", index=False)"
   ]
  }
 ],
 "metadata": {
  "kernelspec": {
   "display_name": "Python 3",
   "language": "python",
   "name": "python3"
  },
  "language_info": {
   "codemirror_mode": {
    "name": "ipython",
    "version": 3
   },
   "file_extension": ".py",
   "mimetype": "text/x-python",
   "name": "python",
   "nbconvert_exporter": "python",
   "pygments_lexer": "ipython3",
   "version": "3.8.2"
  }
 },
 "nbformat": 4,
 "nbformat_minor": 4
}
