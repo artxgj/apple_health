{
 "cells": [
  {
   "cell_type": "markdown",
   "metadata": {},
   "source": [
    "# How Long Should Running Shoes Last?"
   ]
  },
  {
   "cell_type": "markdown",
   "metadata": {},
   "source": [
    "## Tracking Shoes Mileage With Apple Watch Data and iPhone Camera"
   ]
  },
  {
   "cell_type": "markdown",
   "metadata": {},
   "source": [
    "The rule of thumb for the life of a pair of running shoes is somewhere between 300-400 miles. I always forget to count miles. So a **silly** idea hit me, what if I track the mileage of my shoes with my Apple Watch data and take pictures of the shoes? I can have fun doing this. Of course, if I can't remember how many miles my shoes have, I can always look at the bottom of my shoes to determine when it's time to replace them. "
   ]
  },
  {
   "cell_type": "markdown",
   "metadata": {},
   "source": [
    "### Ideas for Tracking Shoes Mileage"
   ]
  },
  {
   "cell_type": "markdown",
   "metadata": {},
   "source": [
    "#### Before/After Pictures and Miles"
   ]
  },
  {
   "cell_type": "markdown",
   "metadata": {},
   "source": [
    "*Baseline*\n",
    "\n",
    "![title](img/nike_epic_react_flyknit2_secondpair_9523.png) \n",
    "\n",
    "*Retirement*\n",
    "\n",
    "| Bottom | Back Left Outer | Back Right Outer | Cumulative Miles |\n",
    "| :--: | :--: | :-: | :-: |\n",
    "|![title](img/nike_epic_react_flyknit2_secondpair_0237.png) | ![title](img/nike_epic_react_flyknit2_secondpair_0239.png)| ![title](img/nike_epic_react_flyknit2_secondpair_0238.png) | 220 |"
   ]
  },
  {
   "cell_type": "markdown",
   "metadata": {},
   "source": [
    "#### Mileage + Weekly Pictures"
   ]
  },
  {
   "cell_type": "markdown",
   "metadata": {},
   "source": [
    "*Baseline*\n",
    "\n",
    "| Bottom | Back Left Outer | Back Right Outer | Cumulative Miles |\n",
    "| :---: | :--: | :--: | :-: |\n",
    "| ![title](img/nike_epic_react_flyknit2_thirdpair_0245.png) |![title](img/nike_epic_react_flyknit2_thirdpair_0243.png) | ![title](img/nike_epic_react_flyknit2_thirdpair_0244.png)| 0 |"
   ]
  },
  {
   "cell_type": "markdown",
   "metadata": {},
   "source": [
    "*Week 0*\n",
    "\n",
    "| Bottom | Back Left Outer | Back Right Outer | Cumulative Miles |\n",
    "| :---: | :--: | :--: | :-: |\n",
    "| ![title](img/nike_epic_react_flyknit2_thirdpair_0246.png) |![title](img/nike_epic_react_flyknit2_thirdpair_0255.png) | ![title](img/nike_epic_react_flyknit2_thirdpair_0259.png)| 5.02 |"
   ]
  },
  {
   "cell_type": "markdown",
   "metadata": {},
   "source": [
    "*Week 1*\n",
    "\n",
    "| Bottom | Back Left Outer | Back Right Outer | Cumulative Miles |\n",
    "| :---: | :--: | :--: | :-: |\n",
    "|<img src=\"img/flyknit_3rd_week1_bottom.png\" width=240, height=180> |<img src=\"img/flyknit_3rd_week1_left.png\" width=240, height=180>  | <img src=\"img/flyknit_3rd_week1_right.png\" width=240, height=180> | 36.51 |"
   ]
  },
  {
   "cell_type": "markdown",
   "metadata": {},
   "source": [
    "*Week 2*\n",
    "\n",
    "| Bottom | Back Left Outer | Back Right Outer | Cumulative Miles |\n",
    "| :---: | :--: | :--: | :-: |\n",
    "|<img src=\"img/flyknit2_3rd_week2_bottom.png\" width=240, height=180> |<img src=\"img/flyknit2_3rd_week2_left_heel_bottom.png\" width=240, height=180>  | <img src=\"img/flyknit2_3rd_week2_right_heel_bottom.png\" width=240, height=180> | 67.52 |"
   ]
  },
  {
   "cell_type": "markdown",
   "metadata": {},
   "source": [
    "### Another Silly Tracking Idea "
   ]
  },
  {
   "cell_type": "markdown",
   "metadata": {},
   "source": [
    "I try out different brands and models of shoes, track my miles and take pictures of wear patterns of the shoes at the different stages. I can then compare how fast I wear out the different brands and models of shoes, and use the information as one of the factors for determining my preferred running shoes."
   ]
  }
 ],
 "metadata": {
  "kernelspec": {
   "display_name": "Python 3",
   "language": "python",
   "name": "python3"
  },
  "language_info": {
   "codemirror_mode": {
    "name": "ipython",
    "version": 3
   },
   "file_extension": ".py",
   "mimetype": "text/x-python",
   "name": "python",
   "nbconvert_exporter": "python",
   "pygments_lexer": "ipython3",
   "version": "3.8.2"
  }
 },
 "nbformat": 4,
 "nbformat_minor": 4
}
